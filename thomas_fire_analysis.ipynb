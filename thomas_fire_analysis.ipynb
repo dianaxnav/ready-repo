{
 "cells": [
  {
   "cell_type": "markdown",
   "id": "1383e984-ded0-482a-b4dc-b6f46d620a80",
   "metadata": {},
   "source": [
    "# Thomas Fire Impact: Air Quality Index Trends and False Imagery Assessment\n",
    "\n",
    "## Author: Diana Navarro\n",
    "\n",
    "https://github.com/dianaxnav/thomas_fire_analysis"
   ]
  },
  {
   "cell_type": "markdown",
   "id": "c0eda00e-ebc5-4e02-a51b-9fce3143238d",
   "metadata": {},
   "source": [
    "# About\n",
    "\n",
    "## Purpose \n",
    "\n",
    "In 2017, Santa Barbara and Ventura county suffered the 7th largest wildfire in the history of California. Almost 300,000 acres were burned and caused more than 150 million in damages across both counties. The purpose of this repsoitiory is to show the the damages of the Thomas fire in two different ways. We will plot the trend of AQI over a 5 day average to see how it affected the air quality in December of 2017. Next we will map out Santa Barbara County and layer over the Thomas Fire perimeter showing the extent of the land that was burned.  \n",
    "\n",
    "## Highlights of Analysis \n",
    "1. Data Tidying/Wrangling\n",
    "2. Updating index \n",
    "3. Visualizing Geospatial data \n",
    "4. Plotting\n",
    "\n",
    "## Dataset Description \n",
    "\n",
    "#### Air Quality Index \n",
    "To properly represent this data, we will be plotting the trend of Air Quality Index (AQI) data. This data is provided by the US Environmental Protection Agency. AQI is the EPA's index for reporting air quality on a scale from 0 ot 500, with O representing a healthy air quality and 500 a hazardous air quality. The first file from 2017 contains 326801 rows and 10 columns, while the second 2018 file shows 327537 rows and 10 columns. This data gives us the AQI in each state, by county and date. We will be combining this data in the `Analysis` section. \n",
    "\n",
    "\n",
    "#### False Color Imagery\n",
    "In order to create the false imagery map, we will need to use two datasets here. One of the datasets is from the Landsat 8 Satellite and provides a collection of bands from the Landsat Collection 2 Level-2 atmosperically corrected surface reflectance data. This dataset is an `xarray.core.dataset.Dataset` with dimensions of (870, 731, 1). In order to outline the Thomas Fire dataset within the spatial data, we will access a shape file from the California Department of Forestry and Fire protection. This shape file is a geoDataFrame that contains 608 rows and 23 columns. This file shows us the perimeters of the Thomas Fire in 2017 and note the following columns:\n",
    "\n",
    "     - FIRE_NAME\n",
    "     - ALARM_DATE\n",
    "     - YEAR_\n",
    "\n",
    "## References to Datasets \n",
    "\n",
    "AirNow. (2021b). Air Quality Index (AQI) Basics. Retrieved from www.airnow.gov website: https://www.airnow.gov/aqi/aqi-basics/ \n",
    "\n",
    "California Fire Perimeters (all). (n.d.). Retrieved November 29, 2023, from gis.data.ca.gov website: https://gis.data.ca.gov/datasets/CALFIRE-Forestry::california-fire-perimeters-all-1/about\n",
    "\n",
    "Microsoft Planetary Computer. Planetary Computer. (n.d.). https://planetarycomputer.microsoft.com/dataset/landsat-c2-l2))\n",
    "\n",
    "USGS. (n.d.). What are the band designations for the Landsat satellites? | U.S. Geological Survey. Retrieved from www.usgs.gov website: https://www.usgs.gov/faqs/what-are-band-designations-landsat-satellites\n",
    "\n",
    "Wikipedia Contributors. (2019, October 6). Thomas Fire. Retrieved from Wikipedia website: https://en.wikipedia.org/wiki/Thomas_Fire\n"
   ]
  },
  {
   "cell_type": "markdown",
   "id": "66df86d5-2f68-4141-be39-1a61c9145e3a",
   "metadata": {},
   "source": [
    "## 1. Importing Data"
   ]
  },
  {
   "cell_type": "markdown",
   "id": "22f55393-edd3-44ef-acae-4f9f4ae29a4d",
   "metadata": {},
   "source": [
    "Let's load all the libraries we will potentially use:"
   ]
  },
  {
   "cell_type": "code",
   "execution_count": 1,
   "id": "a284ec0e-051b-4c80-8e1d-f6a72b15d525",
   "metadata": {
    "tags": []
   },
   "outputs": [],
   "source": [
    "#Import all necessary libraries \n",
    "import os\n",
    "import numpy as np\n",
    "\n",
    "import geopandas as gpd\n",
    "import xarray as xr\n",
    "import rioxarray as rioxr\n",
    "\n",
    "from shapely import Point\n",
    "import matplotlib.pyplot as plt\n",
    "import pandas as pd\n",
    "from shapely import box\n",
    "import matplotlib.patches as mpatches\n",
    "import matplotlib.lines as mlines"
   ]
  },
  {
   "cell_type": "markdown",
   "id": "ed7cb6b6-9541-44ea-be14-d37bbfe22217",
   "metadata": {},
   "source": [
    "**Now lets load all our proper datasets:**\n",
    " \n",
    "AQI Data can be accessed through the following steps: \n",
    " 1. Go to EPA's website on Air Quality Data Collected at Outdoor Monitors Across the US.\n",
    "     (https://www.epa.gov/outdoor-air-quality-data)\n",
    " 2. Under \"Download Data\" click on \"Pre-generated Data Files\"\n",
    " 3. Click on \"Tables of Daily AQI\"\n",
    " 4. Copy the URL to the 2017 Daily AQI by County zip file daily_aqi_by_county_2017.zip\n",
    " 5. In the next code cell read in the data from the URL using the `pd.read_csv` function and store it as `aqi_17`. \n",
    " 6. In the same cell, read in the data for the 2018 Daily AQI by County zip file and store it as `aqi_18`.\n",
    "     \n",
    "Landsat Data is stored in the data folder under 'landsat8-2018-01-26-sb-simplified.nc'. We will store this as `landsat`.\n",
    "\n",
    "Cal Fire data is store in the folder 'California_Fire_Perimeters_2017'. We will store this as `cal_fire`.\n"
   ]
  },
  {
   "cell_type": "code",
   "execution_count": null,
   "id": "e1c5bfb6-5f95-4a3f-b2d7-1927b971ee3b",
   "metadata": {
    "tags": []
   },
   "outputs": [],
   "source": [
    "#read in the data using read csv function and store it\n",
    "aqi_17 = pd.read_csv(\"https://aqs.epa.gov/aqsweb/airdata/daily_aqi_by_county_2017.zip\")\n",
    "\n",
    "aqi_18 = pd.read_csv(\"https://aqs.epa.gov/aqsweb/airdata/daily_aqi_by_county_2018.zip\")\n",
    "\n",
    "# load landsat nc file (1st dataset)\n",
    "landsat1 = os.path.join(os.getcwd(),'data','landsat8-2018-01-26-sb-simplified.nc')\n",
    "landsat = rioxr.open_rasterio(landsat1)\n",
    "\n",
    "#load ca fire data using gpd \n",
    "cal_fire = gpd.read_file('data/California_Fire_Perimeters_2017')"
   ]
  },
  {
   "cell_type": "markdown",
   "id": "299a972c-9622-4139-802e-0a841c0e9707",
   "metadata": {
    "tags": []
   },
   "source": [
    "## 2. Data Exploration\n",
    "\n",
    "In the next couple cells, we will explore the dataset in order to better understand what we want to do with the data and how we would like to plot it.  "
   ]
  },
  {
   "cell_type": "code",
   "execution_count": null,
   "id": "f8d6fab1-f44c-4db8-a3c3-ccf405cbf1ea",
   "metadata": {
    "tags": []
   },
   "outputs": [],
   "source": [
    "#use the head function to take a look at the first five rows of the aqi data\n",
    "aqi_17.head()"
   ]
  },
  {
   "cell_type": "code",
   "execution_count": null,
   "id": "9f9d06ee-db88-4ddd-a946-62c166e8ef77",
   "metadata": {
    "tags": []
   },
   "outputs": [],
   "source": [
    "#use the head function to take a look at the first five rows\n",
    "aqi_18.head()"
   ]
  },
  {
   "cell_type": "code",
   "execution_count": null,
   "id": "d1e76aed-c01c-4c3c-a7ff-69d53db62413",
   "metadata": {
    "tags": []
   },
   "outputs": [],
   "source": [
    "#check out the data types of all cols in the aqi datasets\n",
    "print(aqi_17.dtypes)\n",
    "\n",
    "print(aqi_18.dtypes)"
   ]
  },
  {
   "cell_type": "markdown",
   "id": "26e82c14-baa4-4213-ac2f-606f5f5f6bea",
   "metadata": {},
   "source": [
    "AQI dataset is something similar to what we've worked with before. Now let's check on our spatial data."
   ]
  },
  {
   "cell_type": "code",
   "execution_count": null,
   "id": "30f92aab-e1e8-4312-8567-a5f6754a3263",
   "metadata": {
    "tags": []
   },
   "outputs": [],
   "source": [
    "#lets take a look at the landsat and cal_fire data and see what type they are \n",
    "print(type(landsat))\n",
    "\n",
    "print(type(cal_fire))"
   ]
  },
  {
   "cell_type": "code",
   "execution_count": null,
   "id": "fa44ea0e-4f25-4930-b639-ccbb4e433371",
   "metadata": {
    "tags": []
   },
   "outputs": [],
   "source": [
    "#take a look at the landsat data\n",
    "landsat"
   ]
  },
  {
   "cell_type": "code",
   "execution_count": null,
   "id": "104264ec-fb87-4009-9ed5-9baa6330ab29",
   "metadata": {
    "tags": []
   },
   "outputs": [],
   "source": [
    "#take a look at the first five rows of our cal_fire geodataframe\n",
    "cal_fire.head()"
   ]
  },
  {
   "cell_type": "markdown",
   "id": "a881d4c6-a516-4080-a12d-03065fc64c2c",
   "metadata": {
    "tags": []
   },
   "source": [
    "Now that we have checked out and explored all our datasets, lets work on tidying up the dataset and making updates to plot! "
   ]
  },
  {
   "cell_type": "markdown",
   "id": "acc7ab70-d08a-43c6-b42c-6026ce21d77f",
   "metadata": {},
   "source": [
    "## 3. Analysis\n",
    "\n",
    "In this next section lets work on  AQI data first. We want to join both datasets together into one data frame.\n",
    "\n",
    "To do this we will need put `[aqi_17, aqi_18]` as the input of `pd.concat()` and store the output as  `aqi`.\n",
    "\n",
    "After you have concatenated both of these datasets together, take a look at the data frame after. Do you notice anything odd?"
   ]
  },
  {
   "cell_type": "code",
   "execution_count": null,
   "id": "087b4dc2-5bb1-4820-a822-84babaf76383",
   "metadata": {
    "tags": []
   },
   "outputs": [],
   "source": [
    "#store the the output and use the concat function to join\n",
    "aqi = pd.concat([aqi_17, aqi_18])\n",
    "\n",
    "#take a look at the data frame\n",
    "aqi"
   ]
  },
  {
   "cell_type": "markdown",
   "id": "6579e558-abaa-4dc1-a792-ae3018e9fe01",
   "metadata": {},
   "source": [
    "When we concatenate like this, without any extra parameters for `pd.concat()` the indices for the two dataframes are just \"glued together\", the index of the resulting dataframe is not updated to start from 0. Notice the index of `aqi` ends in 327536 while it has 654338 rows."
   ]
  },
  {
   "cell_type": "markdown",
   "id": "dae7a61d-a766-4923-a1b5-b4b58684aa34",
   "metadata": {},
   "source": [
    "### 3a. Data Tidying - AQI\n",
    "\n",
    "To make it easier on us to work with the data. We are going to make a few updates to the frame.\n",
    "\n",
    "1. Take a look at the column names.\n",
    "2. Re-assign the column names to all lower case. \n",
    "3. Replace the spaces in between with '_'. "
   ]
  },
  {
   "cell_type": "code",
   "execution_count": null,
   "id": "b2cc5af6-4bbf-404f-bdec-c87e0c588623",
   "metadata": {
    "tags": []
   },
   "outputs": [],
   "source": [
    "# initial column names: notice caps and spaces (difficult to work with!)\n",
    "print(aqi.columns, '\\n')\n",
    "\n",
    "# re-assign the column names - .str.lower() makes them lower case\n",
    "aqi.columns = aqi.columns.str.lower()\n",
    "print(aqi.columns, '\\n')\n",
    "\n",
    "#  re-assign the column names again - .str.replace(' ','_') replaces the space for _\n",
    "aqi.columns = aqi.columns.str.replace(' ','_')\n",
    "print(aqi.columns)"
   ]
  },
  {
   "cell_type": "markdown",
   "id": "7ad89b23-1c96-4723-8c92-edfd3c099dea",
   "metadata": {},
   "source": [
    "### 3b. Data selection - AQI\n",
    "\n",
    "In the next cell we would like to select only data from Santa Barbara and store this as a new variable to work with. Then we are going to drop some unnecessary columns to make the dataframe easier to work with. \n",
    "\n",
    "Then lets take a look at the data! "
   ]
  },
  {
   "cell_type": "code",
   "execution_count": null,
   "id": "57c436e9-74bf-41ae-ba61-95d31decb0f6",
   "metadata": {
    "tags": []
   },
   "outputs": [],
   "source": [
    "#select santa barbara data from county col and store the output \n",
    "aqi_sb = aqi[aqi.county_name == 'Santa Barbara']\n",
    "\n",
    "#remove the cols --don't store this-- keep it as an object\n",
    "aqi_sb = aqi_sb.drop(columns = [\"state_name\", \"county_name\", \"state_code\", \"county_code\"])\n",
    "\n",
    "#check out the dtypes of each of the cols \n",
    "aqi_sb.dtypes"
   ]
  },
  {
   "cell_type": "markdown",
   "id": "511afb60-034a-4f08-ac28-0a01ea1d17f5",
   "metadata": {
    "tags": []
   },
   "source": [
    "This data frame is much smaller and easier to handle."
   ]
  },
  {
   "cell_type": "markdown",
   "id": "b98405c5-5dc3-422c-bdb2-529f672a3a4d",
   "metadata": {},
   "source": [
    "### 3c. Update Columns- AQI\n",
    "\n",
    "In this sectionw we want to switch our date column to a date time object. We can do so by using `pd.to_datetime()`. \n",
    "\n",
    "Then we want to set the index of the dataframe to be the date column to make it easier to plot!"
   ]
  },
  {
   "cell_type": "code",
   "execution_count": null,
   "id": "5a8968fb-9233-4775-80eb-507b15a2266d",
   "metadata": {
    "tags": []
   },
   "outputs": [],
   "source": [
    "#update the date col to be a datetime object\n",
    "aqi_sb['date'] = pd.to_datetime(aqi_sb.date)\n",
    "\n",
    "#set the index to date col\n",
    "aqi_sb.set_index('date', inplace = True)"
   ]
  },
  {
   "cell_type": "markdown",
   "id": "ec07e28b-000d-47f3-a0b0-eb4a56c22866",
   "metadata": {
    "tags": []
   },
   "source": [
    "Now, lets make sure the date column was updated properly by accessing the index of aqi_sb by running aqi_sb.index. Add in a comment what is the data type (dtype) of the index."
   ]
  },
  {
   "cell_type": "code",
   "execution_count": null,
   "id": "99f20236-56ed-4353-b805-4c5ede310329",
   "metadata": {
    "tags": []
   },
   "outputs": [],
   "source": [
    "# check it updated the index \n",
    "aqi_sb.index"
   ]
  },
  {
   "cell_type": "markdown",
   "id": "0608a5fb-1794-4508-b43b-dbd9a54bf552",
   "metadata": {
    "tags": []
   },
   "source": [
    "We know this worked because the object now says `datetime64`."
   ]
  },
  {
   "cell_type": "markdown",
   "id": "19079030-98f4-46ce-9559-4a2dc0a61c91",
   "metadata": {},
   "source": [
    "Now that we have updated that, lets change the data to include rolling window calculations on a 5-day basis based on the mean."
   ]
  },
  {
   "cell_type": "code",
   "execution_count": null,
   "id": "f41fb7c0-6ae9-4cdf-8bf4-fbeb37242b67",
   "metadata": {
    "tags": []
   },
   "outputs": [],
   "source": [
    "# rolling() is a method for pandas.series that provides rolling window calculations\n",
    "# the parameter '5D' indicates we want the window to be 5 days\n",
    "# this indicates we want the mean over each window\n",
    "# and we get a pd.Series as ouput\n",
    "aqi_sb.aqi.rolling('5D').mean()"
   ]
  },
  {
   "cell_type": "markdown",
   "id": "5d52cf6f-6a99-4fcd-acd4-d539c5fdc398",
   "metadata": {
    "tags": []
   },
   "source": [
    "Now lets add the function as a column to our `aqi_sb` dataframe."
   ]
  },
  {
   "cell_type": "code",
   "execution_count": null,
   "id": "1ba214b4-f138-4457-8a7a-c3415480afda",
   "metadata": {
    "tags": []
   },
   "outputs": [],
   "source": [
    "#add the mean of the AQI over a 5 day rolling window using `rolling` function \n",
    "#-dont store the object\n",
    "aqi_sb['five_day_average'] = aqi_sb.aqi.rolling('5D').mean()\n",
    "\n",
    "#take a look at the dateframe to make sure it was added\n",
    "aqi_sb"
   ]
  },
  {
   "cell_type": "markdown",
   "id": "cd538608-5050-427f-b33a-d5fc891bab29",
   "metadata": {},
   "source": [
    "Great! We are now finished with tidying up the AQI data. Time to tackle the `landsat` and `cal_fire` data."
   ]
  },
  {
   "cell_type": "markdown",
   "id": "eeab0206-2b67-4336-b2f0-5c4a35861f84",
   "metadata": {},
   "source": [
    "### 3d. Data Tidying - Landsat\n",
    "\n",
    "If you notice in the landsat data above during the exploration, `landsat` contains a single band. However, we don't need this so lets drop it."
   ]
  },
  {
   "cell_type": "code",
   "execution_count": null,
   "id": "a9bb12b6-0831-44bf-9874-e2a40b881454",
   "metadata": {
    "tags": []
   },
   "outputs": [],
   "source": [
    "#lets drop the band using `squeeze()` \n",
    "landsat = landsat.squeeze().drop('band')\n",
    "\n",
    "#take a look at the dataset\n",
    "landsat"
   ]
  },
  {
   "cell_type": "markdown",
   "id": "494872b2-2dba-4d49-a993-8895592ae8d1",
   "metadata": {
    "tags": []
   },
   "source": [
    "## 4. Vizualizing Geospatial data"
   ]
  },
  {
   "cell_type": "markdown",
   "id": "cd690954-b02c-4ee0-bdf4-808f014343fc",
   "metadata": {},
   "source": [
    "### 4a. True Color Image exploration \n",
    "\n",
    "For this section, lets not store these variables. \n",
    "\n",
    "Select the red, green and blue variables (in that order) of the xarray.Dataset, convert it to a numpy.array using the `to_array()` method, and then use `.plot.imshow()` to create an RGB image with the data. (There will be a warning)"
   ]
  },
  {
   "cell_type": "code",
   "execution_count": null,
   "id": "bdd01337-d75c-4575-9274-40a84b9ca0f3",
   "metadata": {
    "tags": []
   },
   "outputs": [],
   "source": [
    "# select red, green, and blue variables and use to array and plot\n",
    "landsat[['red', 'green', 'blue']].to_array().plot.imshow()"
   ]
  },
  {
   "cell_type": "markdown",
   "id": "2fbd02d3-8847-4efd-8702-cdf6fc152ea2",
   "metadata": {},
   "source": [
    "Adjust the scale used for plotting the bands to get a true color image. \n",
    "Check the `robust` parameter (https://matplotlib.org/stable/api/_as_gen/matplotlib.pyplot.imshow.html)\n",
    "The issue here is the clouds: their RGB values are outliers and cause the other values to be squished when plotting. "
   ]
  },
  {
   "cell_type": "code",
   "execution_count": null,
   "id": "9b5cc451-6321-4276-a0a8-be3e8d71da49",
   "metadata": {
    "tags": []
   },
   "outputs": [],
   "source": [
    "# include robust = true this time to print the image\n",
    "landsat[['red', 'green', 'blue']].to_array().plot.imshow(robust = True)"
   ]
  },
  {
   "cell_type": "markdown",
   "id": "dcfc601c-1ceb-4dfc-bc96-e3d961553098",
   "metadata": {},
   "source": [
    "### 4b. False Color Image Exploration\n",
    "\n",
    "Create a false color image by plotting the short-wave infrared (swir22), near-infrared, and red variables (in that order)."
   ]
  },
  {
   "cell_type": "code",
   "execution_count": null,
   "id": "d69adf2f-05dd-4a0a-88fe-98d4a195b1a5",
   "metadata": {
    "tags": []
   },
   "outputs": [],
   "source": [
    "#create false imagery and call the variables\n",
    "landsat[['swir22', 'nir08', 'red']].to_array().plot.imshow(robust = True)"
   ]
  },
  {
   "cell_type": "markdown",
   "id": "c6889bdf-e8a1-490b-9536-2ff0686cce18",
   "metadata": {},
   "source": [
    "### 4c. Update the spatial data\n",
    "\n",
    "In this section, lets update the rest of our fire perimeter data (`cal_fire`)."
   ]
  },
  {
   "cell_type": "code",
   "execution_count": null,
   "id": "2fcae3eb-5306-494f-82d3-94ee2696c7dc",
   "metadata": {
    "tags": []
   },
   "outputs": [],
   "source": [
    "#check to see if the crs matches\n",
    "cal_fire.crs == landsat.rio.crs"
   ]
  },
  {
   "cell_type": "markdown",
   "id": "2829ef90-d181-46e7-88dd-b4fc735d6e77",
   "metadata": {},
   "source": [
    "It doesn't match so lets change the data crs. "
   ]
  },
  {
   "cell_type": "code",
   "execution_count": null,
   "id": "61220a8a-aaa8-46d5-ae11-b2aa45a30ec9",
   "metadata": {
    "tags": []
   },
   "outputs": [],
   "source": [
    "# Set the new CRS to make it equal to landsat\n",
    "cal_fire = cal_fire.to_crs(landsat.rio.crs)"
   ]
  },
  {
   "cell_type": "code",
   "execution_count": null,
   "id": "ad2ac772-962d-4feb-a92d-50c65c620a07",
   "metadata": {
    "tags": []
   },
   "outputs": [],
   "source": [
    "#check to make sure the crs updated\n",
    "cal_fire.crs == landsat.rio.crs"
   ]
  },
  {
   "cell_type": "markdown",
   "id": "6f3e0468-dc22-4775-8a4b-4ccabf2758a7",
   "metadata": {},
   "source": [
    "It worked!"
   ]
  },
  {
   "cell_type": "markdown",
   "id": "01829e6f-f3e4-41b9-a453-046fcd660fc6",
   "metadata": {},
   "source": [
    "One last thing: Let's select the data from just the Thomas Fire."
   ]
  },
  {
   "cell_type": "code",
   "execution_count": null,
   "id": "486257eb-7ff7-4bd0-afe6-0781e4f4c740",
   "metadata": {
    "tags": []
   },
   "outputs": [],
   "source": [
    "#select thomas fire data only to plot it \n",
    "thomas_fire = cal_fire[cal_fire['FIRE_NAME'] == 'THOMAS']"
   ]
  },
  {
   "cell_type": "markdown",
   "id": "711d57a1-adac-45d4-bb0e-34f5f85c69dc",
   "metadata": {},
   "source": [
    "## 5. Final Output "
   ]
  },
  {
   "cell_type": "markdown",
   "id": "013ef839-d3fd-4271-9bc4-d86ea0ecbc94",
   "metadata": {},
   "source": [
    "### 5a. Daily AQI and 5-day Average\n",
    "\n",
    "Let's make a line plot showing both the daily AQI and the 5-day average (5-day average on top of the AQI). Then let's update the title and colors of the graph. Can you see the AQI going up during the Thomas Fire in December 2017?"
   ]
  },
  {
   "cell_type": "code",
   "execution_count": null,
   "id": "d4f7b927-f0b7-4649-ba7f-415fa64593aa",
   "metadata": {
    "tags": []
   },
   "outputs": [],
   "source": [
    "#it already knows to plot the date index so no need to call x\n",
    "aqi_sb.plot(y=['five_day_average', 'aqi'], #call the y values \n",
    "        title = 'Daily AQI and 5-day average',\n",
    "        xlabel='Date',\n",
    "        ylabel='AQI and Mean average(5-day period)',  #label      \n",
    "        color = {'five_day_average':'#F48FB1',\n",
    "                 'aqi': '#AB47BC' #customize color\n",
    "                 }\n",
    "           )\n",
    "\n",
    "# save figure\n",
    "plt.savefig('dailyaqi_5day.png', bbox_inches='tight',  dpi=100)"
   ]
  },
  {
   "cell_type": "markdown",
   "id": "5ea0eb02-5e01-4e6d-879f-9a43affccaf5",
   "metadata": {
    "tags": []
   },
   "source": [
    "**In the graph you could see the spike of aqi right in December 2017 when the Thomas fire occured, where it peaks just above 250.**"
   ]
  },
  {
   "cell_type": "markdown",
   "id": "542718b1-a8e5-474f-9f64-1df6f7af4a29",
   "metadata": {},
   "source": [
    "### 5b. Thomas Fire in Santa Barbara County\n",
    "\n",
    "Let's create a map showing the shortwave infrared/nir/red false color image together with the Thomas fire perimeter.  "
   ]
  },
  {
   "cell_type": "code",
   "execution_count": null,
   "id": "340942cc-852f-4bf8-af92-3d46a99491a9",
   "metadata": {
    "tags": []
   },
   "outputs": [],
   "source": [
    "#create false imagery and call the variables\n",
    "fig, ax = plt.subplots()\n",
    "thomas_fire.plot(ax = ax, \n",
    "                 color = \"None\",\n",
    "                edgecolor = \"red\")\n",
    "\n",
    "#plot the show the data \n",
    "landsat[['swir22', 'nir08', 'red']].to_array().plot.imshow(robust = True)\n",
    "\n",
    "#set the title of the map \n",
    "ax.set_title('Thomas Fire in Santa Barbara County', fontsize = 14)\n",
    "\n",
    "# save figure\n",
    "plt.savefig('thomasfire.png', bbox_inches='tight',  dpi=100)"
   ]
  }
 ],
 "metadata": {
  "kernelspec": {
   "display_name": "Anaconda 3 (Base)",
   "language": "python",
   "name": "base"
  },
  "language_info": {
   "codemirror_mode": {
    "name": "ipython",
    "version": 3
   },
   "file_extension": ".py",
   "mimetype": "text/x-python",
   "name": "python",
   "nbconvert_exporter": "python",
   "pygments_lexer": "ipython3",
   "version": "3.9.13"
  }
 },
 "nbformat": 4,
 "nbformat_minor": 5
}
